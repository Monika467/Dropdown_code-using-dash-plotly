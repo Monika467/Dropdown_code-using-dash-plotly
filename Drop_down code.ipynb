{
 "cells": [
  {
   "cell_type": "code",
   "execution_count": 1,
   "metadata": {},
   "outputs": [],
   "source": [
    "import dash\n",
    "import dash_core_components as dcc\n",
    "import dash_html_components as html"
   ]
  },
  {
   "cell_type": "code",
   "execution_count": 2,
   "metadata": {},
   "outputs": [],
   "source": [
    "app = dash.Dash()"
   ]
  },
  {
   "cell_type": "code",
   "execution_count": 3,
   "metadata": {},
   "outputs": [],
   "source": [
    "app.layout = html.Div([\n",
    "    html.Label('Choose any city'),\n",
    "    dcc.Dropdown(\n",
    "        id = 'first-dropdown',\n",
    "        options = [\n",
    "            {'label': 'Fiji','value':'Fi'},\n",
    "            {'label': 'Mali','value':'Mi'},\n",
    "            {'label': 'Russia','value':'Rs'},\n",
    "            {'label': 'Tuvalu','value':'Tu'},\n",
    "            {'label': 'Syria','value':'Sy'}\n",
    "            \n",
    "            \n",
    "            \n",
    "        ],\n",
    "        value = 'Rs'\n",
    "        \n",
    "    \n",
    "    )\n",
    "])"
   ]
  },
  {
   "cell_type": "code",
   "execution_count": null,
   "metadata": {},
   "outputs": [
    {
     "name": "stdout",
     "output_type": "stream",
     "text": [
      "Dash is running on http://127.0.0.1:4051/\n",
      "\n",
      " Warning: This is a development server. Do not use app.run_server\n",
      " in production, use a production WSGI server like gunicorn instead.\n",
      "\n",
      " * Serving Flask app \"__main__\" (lazy loading)\n",
      " * Environment: production\n",
      "   WARNING: This is a development server. Do not use it in a production deployment.\n",
      "   Use a production WSGI server instead.\n",
      " * Debug mode: off\n"
     ]
    },
    {
     "name": "stderr",
     "output_type": "stream",
     "text": [
      " * Running on http://127.0.0.1:4051/ (Press CTRL+C to quit)\n",
      "127.0.0.1 - - [25/Jun/2020 22:15:40] \"\u001b[37mGET / HTTP/1.1\u001b[0m\" 200 -\n",
      "127.0.0.1 - - [25/Jun/2020 22:15:40] \"\u001b[37mGET /_dash-component-suites/dash_renderer/prop-types@15.v1_5_0m1593083108.7.2.min.js HTTP/1.1\u001b[0m\" 200 -\n",
      "127.0.0.1 - - [25/Jun/2020 22:15:41] \"\u001b[37mGET /_dash-component-suites/dash_renderer/polyfill@7.v1_5_0m1593083108.8.7.min.js HTTP/1.1\u001b[0m\" 200 -\n",
      "127.0.0.1 - - [25/Jun/2020 22:15:41] \"\u001b[37mGET /_dash-component-suites/dash_renderer/react@16.v1_5_0m1593083108.13.0.min.js HTTP/1.1\u001b[0m\" 200 -\n",
      "127.0.0.1 - - [25/Jun/2020 22:15:41] \"\u001b[37mGET /_dash-component-suites/dash_core_components/dash_core_components.v1_10_1m1593083112.min.js HTTP/1.1\u001b[0m\" 200 -\n",
      "127.0.0.1 - - [25/Jun/2020 22:15:41] \"\u001b[37mGET /_dash-component-suites/dash_renderer/react-dom@16.v1_5_0m1593083108.13.0.min.js HTTP/1.1\u001b[0m\" 200 -\n",
      "127.0.0.1 - - [25/Jun/2020 22:15:41] \"\u001b[37mGET /_dash-component-suites/dash_html_components/dash_html_components.v1_0_3m1593083115.min.js HTTP/1.1\u001b[0m\" 200 -\n",
      "127.0.0.1 - - [25/Jun/2020 22:15:41] \"\u001b[37mGET /_dash-component-suites/dash_core_components/dash_core_components-shared.v1_10_1m1593083112.js HTTP/1.1\u001b[0m\" 200 -\n",
      "127.0.0.1 - - [25/Jun/2020 22:15:41] \"\u001b[37mGET /_dash-component-suites/dash_renderer/dash_renderer.v1_5_0m1593083108.min.js HTTP/1.1\u001b[0m\" 200 -\n",
      "127.0.0.1 - - [25/Jun/2020 22:15:41] \"\u001b[37mGET /_dash-layout HTTP/1.1\u001b[0m\" 200 -\n",
      "127.0.0.1 - - [25/Jun/2020 22:15:41] \"\u001b[37mGET /_dash-dependencies HTTP/1.1\u001b[0m\" 200 -\n",
      "127.0.0.1 - - [25/Jun/2020 22:15:41] \"\u001b[37mGET /_favicon.ico?v=1.13.3 HTTP/1.1\u001b[0m\" 200 -\n",
      "127.0.0.1 - - [25/Jun/2020 22:15:41] \"\u001b[37mGET /_dash-component-suites/dash_core_components/async-dropdown.v1_10_1m1592438751.js HTTP/1.1\u001b[0m\" 200 -\n"
     ]
    }
   ],
   "source": [
    "if __name__ == '__main__':\n",
    "    app.run_server(port=4051)"
   ]
  },
  {
   "cell_type": "code",
   "execution_count": null,
   "metadata": {},
   "outputs": [],
   "source": []
  }
 ],
 "metadata": {
  "kernelspec": {
   "display_name": "Python 3",
   "language": "python",
   "name": "python3"
  },
  "language_info": {
   "codemirror_mode": {
    "name": "ipython",
    "version": 3
   },
   "file_extension": ".py",
   "mimetype": "text/x-python",
   "name": "python",
   "nbconvert_exporter": "python",
   "pygments_lexer": "ipython3",
   "version": "3.7.6"
  }
 },
 "nbformat": 4,
 "nbformat_minor": 4
}
